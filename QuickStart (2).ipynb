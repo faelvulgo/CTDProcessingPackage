{
  "nbformat": 4,
  "nbformat_minor": 0,
  "metadata": {
    "colab": {
      "provenance": []
    },
    "kernelspec": {
      "name": "python3",
      "display_name": "Python 3"
    },
    "language_info": {
      "name": "python"
    }
  },
  "cells": [
    {
      "cell_type": "markdown",
      "source": [
        "**CTD Processing**"
      ],
      "metadata": {
        "id": "2ZdTBMSUeLKV"
      }
    },
    {
      "cell_type": "markdown",
      "source": [],
      "metadata": {
        "id": "rv4qM328kVjH"
      }
    },
    {
      "cell_type": "code",
      "source": [
        "pip install CTDProcessingPackage"
      ],
      "metadata": {
        "id": "6lZBvQ6EM5CT"
      },
      "execution_count": null,
      "outputs": []
    },
    {
      "cell_type": "markdown",
      "source": [
        "In the python script, import the package:\n"
      ],
      "metadata": {
        "id": "qZSJx4G3ehQN"
      }
    },
    {
      "cell_type": "code",
      "source": [
        "import ctdmodule as ctd"
      ],
      "metadata": {
        "id": "hN13MU9TerNt"
      },
      "execution_count": null,
      "outputs": []
    },
    {
      "cell_type": "markdown",
      "source": [
        "After that, you are ready to start using the package functions."
      ],
      "metadata": {
        "id": "yy0RHxsweyus"
      }
    },
    {
      "cell_type": "markdown",
      "source": [
        "**Package Functions (1.7.10)**"
      ],
      "metadata": {
        "id": "KdtwgTWCfDZk"
      }
    },
    {
      "cell_type": "markdown",
      "source": [
        "\n",
        "\n",
        "*   **plot**: plot a simple temperature profile\n",
        "*   data: data file\n",
        "*   path: path and the name to save the plotted image\n",
        "\n"
      ],
      "metadata": {
        "id": "fy2-c1pGfRSr"
      }
    },
    {
      "cell_type": "code",
      "source": [
        "ctd.plot(data, path)"
      ],
      "metadata": {
        "id": "Wy5-93kPfu1y"
      },
      "execution_count": null,
      "outputs": []
    },
    {
      "cell_type": "markdown",
      "source": [
        "*   **convert**: For each column in the file, except the 'time' column, replace ',' with '.', and in cells that have '.' as a thousand separator, remove.\n",
        "*   data: data file"
      ],
      "metadata": {
        "id": "lpOR2i-dIzyR"
      }
    },
    {
      "cell_type": "code",
      "source": [
        "ctd.convert(data)"
      ],
      "metadata": {
        "id": "p1FSzwp-gH6K"
      },
      "execution_count": null,
      "outputs": []
    },
    {
      "cell_type": "markdown",
      "source": [
        "\n",
        "\n",
        "*   **downcast**: overwrite the data maintaining only the CTD dowcast data\n",
        "*   data: data file\n",
        "\n"
      ],
      "metadata": {
        "id": "VU380V6tgMu6"
      }
    },
    {
      "cell_type": "code",
      "source": [
        "ctd.downcast(data)"
      ],
      "metadata": {
        "id": "yUv2d8ckgapq"
      },
      "execution_count": null,
      "outputs": []
    },
    {
      "cell_type": "markdown",
      "source": [
        "\n",
        "\n",
        "*   **remove_outliers**: remove the data outliers using the 3-sigma method\n",
        "*   data: data file\n",
        "\n"
      ],
      "metadata": {
        "id": "VUCoLfTEgciB"
      }
    },
    {
      "cell_type": "code",
      "source": [
        "ctd.remove_outliers(data)"
      ],
      "metadata": {
        "id": "aG81npkFgrU8"
      },
      "execution_count": null,
      "outputs": []
    },
    {
      "cell_type": "markdown",
      "source": [
        "\n",
        "\n",
        "*   **above_sea_level**: remove the data collected above the sea level\n",
        "*   data: arquivo de dados\n",
        "*   sea_level_pressure: dBar value of sea surface (normally 10.12)\n",
        "\n"
      ],
      "metadata": {
        "id": "LOL13R0Bgtax"
      }
    },
    {
      "cell_type": "code",
      "source": [
        "ctd.above_sea_level(data, sea_level_pressure)"
      ],
      "metadata": {
        "id": "pzld7pjthCnB"
      },
      "execution_count": null,
      "outputs": []
    },
    {
      "cell_type": "markdown",
      "source": [
        "\n",
        "\n",
        "*   **pressure_loops**: remove the pressure loops from the data\n",
        "*   data: data file\n",
        "\n"
      ],
      "metadata": {
        "id": "mLbW5HTehGiB"
      }
    },
    {
      "cell_type": "code",
      "source": [
        "ctd.pressure_loops(data)"
      ],
      "metadata": {
        "id": "GtXsh9zOhN-4"
      },
      "execution_count": null,
      "outputs": []
    },
    {
      "cell_type": "markdown",
      "source": [
        "\n",
        "\n",
        "*   **bin_average**: bin averaging\n",
        "*   data: data file\n",
        "*   tamanho_janela: bin size in meters\n",
        "*   coluna: first column to be binned\n",
        "*   coluna2: second column to be binned\n",
        "*   lat: latitude\n",
        "\n"
      ],
      "metadata": {
        "id": "Gwqvn1rwh6Xr"
      }
    },
    {
      "cell_type": "code",
      "source": [
        "ctd.bin_average(data, tamanho_janela, coluna, coluna2, lat)"
      ],
      "metadata": {
        "id": "RIBQg5NhiT86"
      },
      "execution_count": null,
      "outputs": []
    },
    {
      "cell_type": "markdown",
      "source": [
        "*   **plot_perfil_termosal**: plot a temperature and salinity profile together\n",
        "*   data: data file\n",
        "*   path: path and the name to save the plotted image"
      ],
      "metadata": {
        "id": "kPuDPWVvI3Ba"
      }
    },
    {
      "cell_type": "code",
      "source": [
        "ctd.plot_perfil_termosal(data, path)"
      ],
      "metadata": {
        "id": "SOzeMvvJiqBn"
      },
      "execution_count": null,
      "outputs": []
    },
    {
      "cell_type": "markdown",
      "source": [
        "*   **diagramats**: Plot a T-S diagram with density isolines\n",
        "*   data: data file\n",
        "*   path: path and the name to save the plotted image\n",
        "*   lon: longitude\n",
        "*   lat: latitude"
      ],
      "metadata": {
        "id": "i2UsjqNQI6oR"
      }
    },
    {
      "cell_type": "code",
      "source": [
        "ctd.diagramats(data, path, lon, lat)"
      ],
      "metadata": {
        "id": "fdrnNxZXi7S3"
      },
      "execution_count": null,
      "outputs": []
    }
  ]
}